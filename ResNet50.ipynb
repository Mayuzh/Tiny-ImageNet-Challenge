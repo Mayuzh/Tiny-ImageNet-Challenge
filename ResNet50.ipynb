{
  "nbformat": 4,
  "nbformat_minor": 0,
  "metadata": {
    "colab": {
      "name": "ResNet50_CSE144_FinalProject.ipynb",
      "provenance": []
    },
    "kernelspec": {
      "name": "python3",
      "display_name": "Python 3"
    },
    "language_info": {
      "name": "python"
    },
    "accelerator": "GPU"
  },
  "cells": [
    {
      "cell_type": "markdown",
      "source": [
        "## **1 Tiny ImageNet Challenge**\n",
        "\n",
        "In Assignment 4, you trained an image classifier using CIFAR-10 dataset, which does not require sophisti-\n",
        "cated data preprocessing or model design choice to achieve a decent accuracy. In this section, your task is to train a classifier for a more difficult dataset – Tiny ImageNet. Please use the URL below to access the Kaggle page of this competition.\n",
        "\n",
        "https://www.kaggle.com/t/3104a72abd7c4d019923cb870855b732\n",
        "\n",
        "The Kaggle page is for evaluation and submission only, please refer to this instructions for details."
      ],
      "metadata": {
        "id": "rmfpZH1CgHWT"
      }
    },
    {
      "cell_type": "code",
      "execution_count": 2,
      "metadata": {
        "id": "UQ7vc7_hKITR"
      },
      "outputs": [],
      "source": [
        "import tensorflow as tf\n",
        "import matplotlib.pyplot as plt\n",
        "from tensorflow.keras import layers\n",
        "from tensorflow.keras import regularizers\n",
        "from tensorflow.keras.optimizers import SGD, Adam, RMSprop, Adagrad\n",
        "from sklearn.model_selection import train_test_split\n",
        "from tensorflow import keras\n",
        "from keras.layers import PReLU\n",
        "from keras.initializers import Constant\n",
        "\n",
        "from tensorflow.keras.layers import Dropout, Flatten, Activation, BatchNormalization\n",
        "   \n",
        "import numpy as np\n",
        "from keras.models import Model\n",
        "from keras.layers import Input, Dense\n",
        "from keras.callbacks import TensorBoard, ModelCheckpoint, ReduceLROnPlateau\n"
      ]
    },
    {
      "cell_type": "code",
      "source": [
        "\n",
        "import time\n",
        "\n",
        "import PIL.Image as Image\n",
        "\n",
        "import tensorflow_hub as hub\n",
        "\n",
        "import datetime\n",
        "from glob import glob\n",
        "%load_ext tensorboard"
      ],
      "metadata": {
        "id": "l1O7aXroLIAW"
      },
      "execution_count": 3,
      "outputs": []
    },
    {
      "cell_type": "code",
      "source": [
        "!wget https://storage.googleapis.com/cse144/tiny-imagenet-100.zip\n",
        "!unzip 'tiny-imagenet-100.zip'"
      ],
      "metadata": {
        "id": "w7AtG1b6tV1c",
        "colab": {
          "base_uri": "https://localhost:8080/"
        },
        "outputId": "60423af2-c6d2-4708-c417-106623bebefa"
      },
      "execution_count": 4,
      "outputs": [
        {
          "output_type": "stream",
          "name": "stdout",
          "text": [
            "--2022-03-16 05:14:53--  https://storage.googleapis.com/cse144/tiny-imagenet-100.zip\n",
            "Resolving storage.googleapis.com (storage.googleapis.com)... 74.125.195.128, 108.177.98.128, 74.125.197.128, ...\n",
            "Connecting to storage.googleapis.com (storage.googleapis.com)|74.125.195.128|:443... connected.\n",
            "HTTP request sent, awaiting response... 200 OK\n",
            "Length: 113846330 (109M) [application/zip]\n",
            "Saving to: ‘tiny-imagenet-100.zip.1’\n",
            "\n",
            "tiny-imagenet-100.z 100%[===================>] 108.57M   280MB/s    in 0.4s    \n",
            "\n",
            "2022-03-16 05:14:53 (280 MB/s) - ‘tiny-imagenet-100.zip.1’ saved [113846330/113846330]\n",
            "\n",
            "Archive:  tiny-imagenet-100.zip\n",
            "replace tiny-imagenet-100/submission_sample.csv? [y]es, [n]o, [A]ll, [N]one, [r]ename: "
          ]
        }
      ]
    },
    {
      "cell_type": "code",
      "source": [
        "train_dir = glob('/content/tiny-imagenet-100/train/*/*/*')\n",
        "test_dir = glob('/content/tiny-imagenet-100/test/*/*')"
      ],
      "metadata": {
        "id": "Aoxb8Gpw02wF"
      },
      "execution_count": 5,
      "outputs": []
    },
    {
      "cell_type": "code",
      "source": [
        "label_dict = {}\n",
        "list_of_wnids = [0] * 100\n",
        "for i, line in enumerate(open(\"tiny-imagenet-100/wnids.txt\", \"r\")): \n",
        "    label_dict[line.rstrip(\"\\n\")] = i\n",
        "    list_of_wnids[i] = line.strip('\\n')\n",
        "    \n",
        "print(label_dict)\n",
        "print(list_of_wnids)"
      ],
      "metadata": {
        "colab": {
          "base_uri": "https://localhost:8080/"
        },
        "id": "63Jj5PG7u6F8",
        "outputId": "d2fbf881-52d9-46ea-ec43-1b7443a5dd65"
      },
      "execution_count": 6,
      "outputs": [
        {
          "output_type": "stream",
          "name": "stdout",
          "text": [
            "{'n02124075': 0, 'n04067472': 1, 'n04540053': 2, 'n04099969': 3, 'n07749582': 4, 'n01641577': 5, 'n02802426': 6, 'n09246464': 7, 'n07920052': 8, 'n03970156': 9, 'n03891332': 10, 'n02106662': 11, 'n03201208': 12, 'n02279972': 13, 'n02132136': 14, 'n04146614': 15, 'n07873807': 16, 'n02364673': 17, 'n04507155': 18, 'n03854065': 19, 'n03838899': 20, 'n03733131': 21, 'n01443537': 22, 'n07875152': 23, 'n03544143': 24, 'n09428293': 25, 'n03085013': 26, 'n02437312': 27, 'n07614500': 28, 'n03804744': 29, 'n04265275': 30, 'n02963159': 31, 'n02486410': 32, 'n01944390': 33, 'n09256479': 34, 'n02058221': 35, 'n04275548': 36, 'n02321529': 37, 'n02769748': 38, 'n02099712': 39, 'n07695742': 40, 'n02056570': 41, 'n02281406': 42, 'n01774750': 43, 'n02509815': 44, 'n03983396': 45, 'n07753592': 46, 'n04254777': 47, 'n02233338': 48, 'n04008634': 49, 'n02823428': 50, 'n02236044': 51, 'n03393912': 52, 'n07583066': 53, 'n04074963': 54, 'n01629819': 55, 'n09332890': 56, 'n02481823': 57, 'n03902125': 58, 'n03404251': 59, 'n09193705': 60, 'n03637318': 61, 'n04456115': 62, 'n02666196': 63, 'n03796401': 64, 'n02795169': 65, 'n02123045': 66, 'n01855672': 67, 'n01882714': 68, 'n02917067': 69, 'n02988304': 70, 'n04398044': 71, 'n02843684': 72, 'n02423022': 73, 'n02669723': 74, 'n04465501': 75, 'n02165456': 76, 'n03770439': 77, 'n02099601': 78, 'n04486054': 79, 'n02950826': 80, 'n03814639': 81, 'n04259630': 82, 'n03424325': 83, 'n02948072': 84, 'n03179701': 85, 'n03400231': 86, 'n02206856': 87, 'n03160309': 88, 'n01984695': 89, 'n03977966': 90, 'n03584254': 91, 'n04023962': 92, 'n02814860': 93, 'n01910747': 94, 'n04596742': 95, 'n03992509': 96, 'n04133789': 97, 'n03937543': 98, 'n02927161': 99}\n",
            "['n02124075', 'n04067472', 'n04540053', 'n04099969', 'n07749582', 'n01641577', 'n02802426', 'n09246464', 'n07920052', 'n03970156', 'n03891332', 'n02106662', 'n03201208', 'n02279972', 'n02132136', 'n04146614', 'n07873807', 'n02364673', 'n04507155', 'n03854065', 'n03838899', 'n03733131', 'n01443537', 'n07875152', 'n03544143', 'n09428293', 'n03085013', 'n02437312', 'n07614500', 'n03804744', 'n04265275', 'n02963159', 'n02486410', 'n01944390', 'n09256479', 'n02058221', 'n04275548', 'n02321529', 'n02769748', 'n02099712', 'n07695742', 'n02056570', 'n02281406', 'n01774750', 'n02509815', 'n03983396', 'n07753592', 'n04254777', 'n02233338', 'n04008634', 'n02823428', 'n02236044', 'n03393912', 'n07583066', 'n04074963', 'n01629819', 'n09332890', 'n02481823', 'n03902125', 'n03404251', 'n09193705', 'n03637318', 'n04456115', 'n02666196', 'n03796401', 'n02795169', 'n02123045', 'n01855672', 'n01882714', 'n02917067', 'n02988304', 'n04398044', 'n02843684', 'n02423022', 'n02669723', 'n04465501', 'n02165456', 'n03770439', 'n02099601', 'n04486054', 'n02950826', 'n03814639', 'n04259630', 'n03424325', 'n02948072', 'n03179701', 'n03400231', 'n02206856', 'n03160309', 'n01984695', 'n03977966', 'n03584254', 'n04023962', 'n02814860', 'n01910747', 'n04596742', 'n03992509', 'n04133789', 'n03937543', 'n02927161']\n"
          ]
        }
      ]
    },
    {
      "cell_type": "code",
      "source": [
        "X = []\n",
        "y = []\n",
        "for i in train_dir:\n",
        "    for key in label_dict.keys():\n",
        "        if key == i[50:59]:\n",
        "            y.append(np.array([label_dict.get(key)]))\n",
        "    img = Image.open(i).convert(\"RGB\")\n",
        "\n",
        "    X.append(np.array(img))\n",
        "    #X.append(np.array(Image.open(i).convert(\"RGB\")))\n",
        "\n",
        "x_training = np.asarray(X)\n",
        "y_training = np.asarray(y)\n",
        "print(x_training.shape)\n",
        "print(y_training.shape)"
      ],
      "metadata": {
        "colab": {
          "base_uri": "https://localhost:8080/"
        },
        "id": "69k7U5np1I5S",
        "outputId": "5ccd5e05-7931-4b3f-9256-e820f3ab994c"
      },
      "execution_count": 7,
      "outputs": [
        {
          "output_type": "stream",
          "name": "stdout",
          "text": [
            "(50000, 64, 64, 3)\n",
            "(50000, 1)\n"
          ]
        }
      ]
    },
    {
      "cell_type": "code",
      "source": [
        "x_train, x_val = train_test_split(\n",
        "    x_training, test_size=0.1, random_state=144, shuffle=True\n",
        ")\n",
        "y_train, y_val = train_test_split(\n",
        "    y_training, test_size=0.1, random_state=144, shuffle=True\n",
        ")"
      ],
      "metadata": {
        "id": "5JTvChyV3NrO"
      },
      "execution_count": 8,
      "outputs": []
    },
    {
      "cell_type": "code",
      "metadata": {
        "id": "WKZkZr9S2GWC"
      },
      "source": [
        "from tensorflow.keras.layers import Input\n",
        "#from tensorflow.keras.applications.vgg19 import VGG19, preprocess_input\n",
        "from tensorflow.keras.applications.resnet import ResNet50, preprocess_input\n",
        "from tensorflow.keras.preprocessing import image\n",
        "from tensorflow.keras.models import Model"
      ],
      "execution_count": 9,
      "outputs": []
    },
    {
      "cell_type": "code",
      "metadata": {
        "id": "EC2lEvSg2iq4",
        "colab": {
          "base_uri": "https://localhost:8080/"
        },
        "outputId": "3f24e5db-1ea9-4db3-f898-e2886d5bdebb"
      },
      "source": [
        "# Import the VGG16 trained neural network model, minus it's last (top) neuron layer.\n",
        "base_model = ResNet50(weights = 'imagenet', \n",
        "                   include_top = False, \n",
        "                   input_shape = (64, 64, 3), \n",
        "                   pooling = None)\n",
        "\n",
        "for i in base_model.layers[0:50]:\n",
        "    i.trainable = False\n",
        "for i in base_model.layers[0:-80]:\n",
        "    i.trainable = False"
      ],
      "execution_count": 10,
      "outputs": [
        {
          "output_type": "stream",
          "name": "stdout",
          "text": [
            "Downloading data from https://storage.googleapis.com/tensorflow/keras-applications/resnet/resnet50_weights_tf_dim_ordering_tf_kernels_notop.h5\n",
            "94773248/94765736 [==============================] - 1s 0us/step\n",
            "94781440/94765736 [==============================] - 1s 0us/step\n"
          ]
        }
      ]
    },
    {
      "cell_type": "code",
      "source": [
        "normalization_layer = tf.keras.layers.Rescaling(1./255)"
      ],
      "metadata": {
        "id": "zv8Y_WgAENjg"
      },
      "execution_count": 11,
      "outputs": []
    },
    {
      "cell_type": "code",
      "metadata": {
        "id": "hKxTr-Is3jUC",
        "colab": {
          "base_uri": "https://localhost:8080/"
        },
        "outputId": "2386dc2d-bd4a-46d3-dcc8-a9e40dc898bb"
      },
      "source": [
        "# Now add layers to our pre-trained base model and add classification layers on top of it\n",
        "x = base_model.output\n",
        "x = normalization_layer(x)\n",
        "x = layers.BatchNormalization()(x)\n",
        "x = Flatten()(x)\n",
        "x = layers.Dropout(0.5)(x)\n",
        "x = Dense(1024, activation = 'relu')(x)\n",
        "#x = layers.Dropout(0.5)(x)\n",
        "predic = Dense(100, activation = 'softmax')(x) \n",
        "\n",
        "# And now put this all together to create our new model.\n",
        "model = Model(inputs = base_model.input, outputs = predic) \n",
        "model.summary()"
      ],
      "execution_count": 12,
      "outputs": [
        {
          "output_type": "stream",
          "name": "stdout",
          "text": [
            "Model: \"model\"\n",
            "__________________________________________________________________________________________________\n",
            " Layer (type)                   Output Shape         Param #     Connected to                     \n",
            "==================================================================================================\n",
            " input_1 (InputLayer)           [(None, 64, 64, 3)]  0           []                               \n",
            "                                                                                                  \n",
            " conv1_pad (ZeroPadding2D)      (None, 70, 70, 3)    0           ['input_1[0][0]']                \n",
            "                                                                                                  \n",
            " conv1_conv (Conv2D)            (None, 32, 32, 64)   9472        ['conv1_pad[0][0]']              \n",
            "                                                                                                  \n",
            " conv1_bn (BatchNormalization)  (None, 32, 32, 64)   256         ['conv1_conv[0][0]']             \n",
            "                                                                                                  \n",
            " conv1_relu (Activation)        (None, 32, 32, 64)   0           ['conv1_bn[0][0]']               \n",
            "                                                                                                  \n",
            " pool1_pad (ZeroPadding2D)      (None, 34, 34, 64)   0           ['conv1_relu[0][0]']             \n",
            "                                                                                                  \n",
            " pool1_pool (MaxPooling2D)      (None, 16, 16, 64)   0           ['pool1_pad[0][0]']              \n",
            "                                                                                                  \n",
            " conv2_block1_1_conv (Conv2D)   (None, 16, 16, 64)   4160        ['pool1_pool[0][0]']             \n",
            "                                                                                                  \n",
            " conv2_block1_1_bn (BatchNormal  (None, 16, 16, 64)  256         ['conv2_block1_1_conv[0][0]']    \n",
            " ization)                                                                                         \n",
            "                                                                                                  \n",
            " conv2_block1_1_relu (Activatio  (None, 16, 16, 64)  0           ['conv2_block1_1_bn[0][0]']      \n",
            " n)                                                                                               \n",
            "                                                                                                  \n",
            " conv2_block1_2_conv (Conv2D)   (None, 16, 16, 64)   36928       ['conv2_block1_1_relu[0][0]']    \n",
            "                                                                                                  \n",
            " conv2_block1_2_bn (BatchNormal  (None, 16, 16, 64)  256         ['conv2_block1_2_conv[0][0]']    \n",
            " ization)                                                                                         \n",
            "                                                                                                  \n",
            " conv2_block1_2_relu (Activatio  (None, 16, 16, 64)  0           ['conv2_block1_2_bn[0][0]']      \n",
            " n)                                                                                               \n",
            "                                                                                                  \n",
            " conv2_block1_0_conv (Conv2D)   (None, 16, 16, 256)  16640       ['pool1_pool[0][0]']             \n",
            "                                                                                                  \n",
            " conv2_block1_3_conv (Conv2D)   (None, 16, 16, 256)  16640       ['conv2_block1_2_relu[0][0]']    \n",
            "                                                                                                  \n",
            " conv2_block1_0_bn (BatchNormal  (None, 16, 16, 256)  1024       ['conv2_block1_0_conv[0][0]']    \n",
            " ization)                                                                                         \n",
            "                                                                                                  \n",
            " conv2_block1_3_bn (BatchNormal  (None, 16, 16, 256)  1024       ['conv2_block1_3_conv[0][0]']    \n",
            " ization)                                                                                         \n",
            "                                                                                                  \n",
            " conv2_block1_add (Add)         (None, 16, 16, 256)  0           ['conv2_block1_0_bn[0][0]',      \n",
            "                                                                  'conv2_block1_3_bn[0][0]']      \n",
            "                                                                                                  \n",
            " conv2_block1_out (Activation)  (None, 16, 16, 256)  0           ['conv2_block1_add[0][0]']       \n",
            "                                                                                                  \n",
            " conv2_block2_1_conv (Conv2D)   (None, 16, 16, 64)   16448       ['conv2_block1_out[0][0]']       \n",
            "                                                                                                  \n",
            " conv2_block2_1_bn (BatchNormal  (None, 16, 16, 64)  256         ['conv2_block2_1_conv[0][0]']    \n",
            " ization)                                                                                         \n",
            "                                                                                                  \n",
            " conv2_block2_1_relu (Activatio  (None, 16, 16, 64)  0           ['conv2_block2_1_bn[0][0]']      \n",
            " n)                                                                                               \n",
            "                                                                                                  \n",
            " conv2_block2_2_conv (Conv2D)   (None, 16, 16, 64)   36928       ['conv2_block2_1_relu[0][0]']    \n",
            "                                                                                                  \n",
            " conv2_block2_2_bn (BatchNormal  (None, 16, 16, 64)  256         ['conv2_block2_2_conv[0][0]']    \n",
            " ization)                                                                                         \n",
            "                                                                                                  \n",
            " conv2_block2_2_relu (Activatio  (None, 16, 16, 64)  0           ['conv2_block2_2_bn[0][0]']      \n",
            " n)                                                                                               \n",
            "                                                                                                  \n",
            " conv2_block2_3_conv (Conv2D)   (None, 16, 16, 256)  16640       ['conv2_block2_2_relu[0][0]']    \n",
            "                                                                                                  \n",
            " conv2_block2_3_bn (BatchNormal  (None, 16, 16, 256)  1024       ['conv2_block2_3_conv[0][0]']    \n",
            " ization)                                                                                         \n",
            "                                                                                                  \n",
            " conv2_block2_add (Add)         (None, 16, 16, 256)  0           ['conv2_block1_out[0][0]',       \n",
            "                                                                  'conv2_block2_3_bn[0][0]']      \n",
            "                                                                                                  \n",
            " conv2_block2_out (Activation)  (None, 16, 16, 256)  0           ['conv2_block2_add[0][0]']       \n",
            "                                                                                                  \n",
            " conv2_block3_1_conv (Conv2D)   (None, 16, 16, 64)   16448       ['conv2_block2_out[0][0]']       \n",
            "                                                                                                  \n",
            " conv2_block3_1_bn (BatchNormal  (None, 16, 16, 64)  256         ['conv2_block3_1_conv[0][0]']    \n",
            " ization)                                                                                         \n",
            "                                                                                                  \n",
            " conv2_block3_1_relu (Activatio  (None, 16, 16, 64)  0           ['conv2_block3_1_bn[0][0]']      \n",
            " n)                                                                                               \n",
            "                                                                                                  \n",
            " conv2_block3_2_conv (Conv2D)   (None, 16, 16, 64)   36928       ['conv2_block3_1_relu[0][0]']    \n",
            "                                                                                                  \n",
            " conv2_block3_2_bn (BatchNormal  (None, 16, 16, 64)  256         ['conv2_block3_2_conv[0][0]']    \n",
            " ization)                                                                                         \n",
            "                                                                                                  \n",
            " conv2_block3_2_relu (Activatio  (None, 16, 16, 64)  0           ['conv2_block3_2_bn[0][0]']      \n",
            " n)                                                                                               \n",
            "                                                                                                  \n",
            " conv2_block3_3_conv (Conv2D)   (None, 16, 16, 256)  16640       ['conv2_block3_2_relu[0][0]']    \n",
            "                                                                                                  \n",
            " conv2_block3_3_bn (BatchNormal  (None, 16, 16, 256)  1024       ['conv2_block3_3_conv[0][0]']    \n",
            " ization)                                                                                         \n",
            "                                                                                                  \n",
            " conv2_block3_add (Add)         (None, 16, 16, 256)  0           ['conv2_block2_out[0][0]',       \n",
            "                                                                  'conv2_block3_3_bn[0][0]']      \n",
            "                                                                                                  \n",
            " conv2_block3_out (Activation)  (None, 16, 16, 256)  0           ['conv2_block3_add[0][0]']       \n",
            "                                                                                                  \n",
            " conv3_block1_1_conv (Conv2D)   (None, 8, 8, 128)    32896       ['conv2_block3_out[0][0]']       \n",
            "                                                                                                  \n",
            " conv3_block1_1_bn (BatchNormal  (None, 8, 8, 128)   512         ['conv3_block1_1_conv[0][0]']    \n",
            " ization)                                                                                         \n",
            "                                                                                                  \n",
            " conv3_block1_1_relu (Activatio  (None, 8, 8, 128)   0           ['conv3_block1_1_bn[0][0]']      \n",
            " n)                                                                                               \n",
            "                                                                                                  \n",
            " conv3_block1_2_conv (Conv2D)   (None, 8, 8, 128)    147584      ['conv3_block1_1_relu[0][0]']    \n",
            "                                                                                                  \n",
            " conv3_block1_2_bn (BatchNormal  (None, 8, 8, 128)   512         ['conv3_block1_2_conv[0][0]']    \n",
            " ization)                                                                                         \n",
            "                                                                                                  \n",
            " conv3_block1_2_relu (Activatio  (None, 8, 8, 128)   0           ['conv3_block1_2_bn[0][0]']      \n",
            " n)                                                                                               \n",
            "                                                                                                  \n",
            " conv3_block1_0_conv (Conv2D)   (None, 8, 8, 512)    131584      ['conv2_block3_out[0][0]']       \n",
            "                                                                                                  \n",
            " conv3_block1_3_conv (Conv2D)   (None, 8, 8, 512)    66048       ['conv3_block1_2_relu[0][0]']    \n",
            "                                                                                                  \n",
            " conv3_block1_0_bn (BatchNormal  (None, 8, 8, 512)   2048        ['conv3_block1_0_conv[0][0]']    \n",
            " ization)                                                                                         \n",
            "                                                                                                  \n",
            " conv3_block1_3_bn (BatchNormal  (None, 8, 8, 512)   2048        ['conv3_block1_3_conv[0][0]']    \n",
            " ization)                                                                                         \n",
            "                                                                                                  \n",
            " conv3_block1_add (Add)         (None, 8, 8, 512)    0           ['conv3_block1_0_bn[0][0]',      \n",
            "                                                                  'conv3_block1_3_bn[0][0]']      \n",
            "                                                                                                  \n",
            " conv3_block1_out (Activation)  (None, 8, 8, 512)    0           ['conv3_block1_add[0][0]']       \n",
            "                                                                                                  \n",
            " conv3_block2_1_conv (Conv2D)   (None, 8, 8, 128)    65664       ['conv3_block1_out[0][0]']       \n",
            "                                                                                                  \n",
            " conv3_block2_1_bn (BatchNormal  (None, 8, 8, 128)   512         ['conv3_block2_1_conv[0][0]']    \n",
            " ization)                                                                                         \n",
            "                                                                                                  \n",
            " conv3_block2_1_relu (Activatio  (None, 8, 8, 128)   0           ['conv3_block2_1_bn[0][0]']      \n",
            " n)                                                                                               \n",
            "                                                                                                  \n",
            " conv3_block2_2_conv (Conv2D)   (None, 8, 8, 128)    147584      ['conv3_block2_1_relu[0][0]']    \n",
            "                                                                                                  \n",
            " conv3_block2_2_bn (BatchNormal  (None, 8, 8, 128)   512         ['conv3_block2_2_conv[0][0]']    \n",
            " ization)                                                                                         \n",
            "                                                                                                  \n",
            " conv3_block2_2_relu (Activatio  (None, 8, 8, 128)   0           ['conv3_block2_2_bn[0][0]']      \n",
            " n)                                                                                               \n",
            "                                                                                                  \n",
            " conv3_block2_3_conv (Conv2D)   (None, 8, 8, 512)    66048       ['conv3_block2_2_relu[0][0]']    \n",
            "                                                                                                  \n",
            " conv3_block2_3_bn (BatchNormal  (None, 8, 8, 512)   2048        ['conv3_block2_3_conv[0][0]']    \n",
            " ization)                                                                                         \n",
            "                                                                                                  \n",
            " conv3_block2_add (Add)         (None, 8, 8, 512)    0           ['conv3_block1_out[0][0]',       \n",
            "                                                                  'conv3_block2_3_bn[0][0]']      \n",
            "                                                                                                  \n",
            " conv3_block2_out (Activation)  (None, 8, 8, 512)    0           ['conv3_block2_add[0][0]']       \n",
            "                                                                                                  \n",
            " conv3_block3_1_conv (Conv2D)   (None, 8, 8, 128)    65664       ['conv3_block2_out[0][0]']       \n",
            "                                                                                                  \n",
            " conv3_block3_1_bn (BatchNormal  (None, 8, 8, 128)   512         ['conv3_block3_1_conv[0][0]']    \n",
            " ization)                                                                                         \n",
            "                                                                                                  \n",
            " conv3_block3_1_relu (Activatio  (None, 8, 8, 128)   0           ['conv3_block3_1_bn[0][0]']      \n",
            " n)                                                                                               \n",
            "                                                                                                  \n",
            " conv3_block3_2_conv (Conv2D)   (None, 8, 8, 128)    147584      ['conv3_block3_1_relu[0][0]']    \n",
            "                                                                                                  \n",
            " conv3_block3_2_bn (BatchNormal  (None, 8, 8, 128)   512         ['conv3_block3_2_conv[0][0]']    \n",
            " ization)                                                                                         \n",
            "                                                                                                  \n",
            " conv3_block3_2_relu (Activatio  (None, 8, 8, 128)   0           ['conv3_block3_2_bn[0][0]']      \n",
            " n)                                                                                               \n",
            "                                                                                                  \n",
            " conv3_block3_3_conv (Conv2D)   (None, 8, 8, 512)    66048       ['conv3_block3_2_relu[0][0]']    \n",
            "                                                                                                  \n",
            " conv3_block3_3_bn (BatchNormal  (None, 8, 8, 512)   2048        ['conv3_block3_3_conv[0][0]']    \n",
            " ization)                                                                                         \n",
            "                                                                                                  \n",
            " conv3_block3_add (Add)         (None, 8, 8, 512)    0           ['conv3_block2_out[0][0]',       \n",
            "                                                                  'conv3_block3_3_bn[0][0]']      \n",
            "                                                                                                  \n",
            " conv3_block3_out (Activation)  (None, 8, 8, 512)    0           ['conv3_block3_add[0][0]']       \n",
            "                                                                                                  \n",
            " conv3_block4_1_conv (Conv2D)   (None, 8, 8, 128)    65664       ['conv3_block3_out[0][0]']       \n",
            "                                                                                                  \n",
            " conv3_block4_1_bn (BatchNormal  (None, 8, 8, 128)   512         ['conv3_block4_1_conv[0][0]']    \n",
            " ization)                                                                                         \n",
            "                                                                                                  \n",
            " conv3_block4_1_relu (Activatio  (None, 8, 8, 128)   0           ['conv3_block4_1_bn[0][0]']      \n",
            " n)                                                                                               \n",
            "                                                                                                  \n",
            " conv3_block4_2_conv (Conv2D)   (None, 8, 8, 128)    147584      ['conv3_block4_1_relu[0][0]']    \n",
            "                                                                                                  \n",
            " conv3_block4_2_bn (BatchNormal  (None, 8, 8, 128)   512         ['conv3_block4_2_conv[0][0]']    \n",
            " ization)                                                                                         \n",
            "                                                                                                  \n",
            " conv3_block4_2_relu (Activatio  (None, 8, 8, 128)   0           ['conv3_block4_2_bn[0][0]']      \n",
            " n)                                                                                               \n",
            "                                                                                                  \n",
            " conv3_block4_3_conv (Conv2D)   (None, 8, 8, 512)    66048       ['conv3_block4_2_relu[0][0]']    \n",
            "                                                                                                  \n",
            " conv3_block4_3_bn (BatchNormal  (None, 8, 8, 512)   2048        ['conv3_block4_3_conv[0][0]']    \n",
            " ization)                                                                                         \n",
            "                                                                                                  \n",
            " conv3_block4_add (Add)         (None, 8, 8, 512)    0           ['conv3_block3_out[0][0]',       \n",
            "                                                                  'conv3_block4_3_bn[0][0]']      \n",
            "                                                                                                  \n",
            " conv3_block4_out (Activation)  (None, 8, 8, 512)    0           ['conv3_block4_add[0][0]']       \n",
            "                                                                                                  \n",
            " conv4_block1_1_conv (Conv2D)   (None, 4, 4, 256)    131328      ['conv3_block4_out[0][0]']       \n",
            "                                                                                                  \n",
            " conv4_block1_1_bn (BatchNormal  (None, 4, 4, 256)   1024        ['conv4_block1_1_conv[0][0]']    \n",
            " ization)                                                                                         \n",
            "                                                                                                  \n",
            " conv4_block1_1_relu (Activatio  (None, 4, 4, 256)   0           ['conv4_block1_1_bn[0][0]']      \n",
            " n)                                                                                               \n",
            "                                                                                                  \n",
            " conv4_block1_2_conv (Conv2D)   (None, 4, 4, 256)    590080      ['conv4_block1_1_relu[0][0]']    \n",
            "                                                                                                  \n",
            " conv4_block1_2_bn (BatchNormal  (None, 4, 4, 256)   1024        ['conv4_block1_2_conv[0][0]']    \n",
            " ization)                                                                                         \n",
            "                                                                                                  \n",
            " conv4_block1_2_relu (Activatio  (None, 4, 4, 256)   0           ['conv4_block1_2_bn[0][0]']      \n",
            " n)                                                                                               \n",
            "                                                                                                  \n",
            " conv4_block1_0_conv (Conv2D)   (None, 4, 4, 1024)   525312      ['conv3_block4_out[0][0]']       \n",
            "                                                                                                  \n",
            " conv4_block1_3_conv (Conv2D)   (None, 4, 4, 1024)   263168      ['conv4_block1_2_relu[0][0]']    \n",
            "                                                                                                  \n",
            " conv4_block1_0_bn (BatchNormal  (None, 4, 4, 1024)  4096        ['conv4_block1_0_conv[0][0]']    \n",
            " ization)                                                                                         \n",
            "                                                                                                  \n",
            " conv4_block1_3_bn (BatchNormal  (None, 4, 4, 1024)  4096        ['conv4_block1_3_conv[0][0]']    \n",
            " ization)                                                                                         \n",
            "                                                                                                  \n",
            " conv4_block1_add (Add)         (None, 4, 4, 1024)   0           ['conv4_block1_0_bn[0][0]',      \n",
            "                                                                  'conv4_block1_3_bn[0][0]']      \n",
            "                                                                                                  \n",
            " conv4_block1_out (Activation)  (None, 4, 4, 1024)   0           ['conv4_block1_add[0][0]']       \n",
            "                                                                                                  \n",
            " conv4_block2_1_conv (Conv2D)   (None, 4, 4, 256)    262400      ['conv4_block1_out[0][0]']       \n",
            "                                                                                                  \n",
            " conv4_block2_1_bn (BatchNormal  (None, 4, 4, 256)   1024        ['conv4_block2_1_conv[0][0]']    \n",
            " ization)                                                                                         \n",
            "                                                                                                  \n",
            " conv4_block2_1_relu (Activatio  (None, 4, 4, 256)   0           ['conv4_block2_1_bn[0][0]']      \n",
            " n)                                                                                               \n",
            "                                                                                                  \n",
            " conv4_block2_2_conv (Conv2D)   (None, 4, 4, 256)    590080      ['conv4_block2_1_relu[0][0]']    \n",
            "                                                                                                  \n",
            " conv4_block2_2_bn (BatchNormal  (None, 4, 4, 256)   1024        ['conv4_block2_2_conv[0][0]']    \n",
            " ization)                                                                                         \n",
            "                                                                                                  \n",
            " conv4_block2_2_relu (Activatio  (None, 4, 4, 256)   0           ['conv4_block2_2_bn[0][0]']      \n",
            " n)                                                                                               \n",
            "                                                                                                  \n",
            " conv4_block2_3_conv (Conv2D)   (None, 4, 4, 1024)   263168      ['conv4_block2_2_relu[0][0]']    \n",
            "                                                                                                  \n",
            " conv4_block2_3_bn (BatchNormal  (None, 4, 4, 1024)  4096        ['conv4_block2_3_conv[0][0]']    \n",
            " ization)                                                                                         \n",
            "                                                                                                  \n",
            " conv4_block2_add (Add)         (None, 4, 4, 1024)   0           ['conv4_block1_out[0][0]',       \n",
            "                                                                  'conv4_block2_3_bn[0][0]']      \n",
            "                                                                                                  \n",
            " conv4_block2_out (Activation)  (None, 4, 4, 1024)   0           ['conv4_block2_add[0][0]']       \n",
            "                                                                                                  \n",
            " conv4_block3_1_conv (Conv2D)   (None, 4, 4, 256)    262400      ['conv4_block2_out[0][0]']       \n",
            "                                                                                                  \n",
            " conv4_block3_1_bn (BatchNormal  (None, 4, 4, 256)   1024        ['conv4_block3_1_conv[0][0]']    \n",
            " ization)                                                                                         \n",
            "                                                                                                  \n",
            " conv4_block3_1_relu (Activatio  (None, 4, 4, 256)   0           ['conv4_block3_1_bn[0][0]']      \n",
            " n)                                                                                               \n",
            "                                                                                                  \n",
            " conv4_block3_2_conv (Conv2D)   (None, 4, 4, 256)    590080      ['conv4_block3_1_relu[0][0]']    \n",
            "                                                                                                  \n",
            " conv4_block3_2_bn (BatchNormal  (None, 4, 4, 256)   1024        ['conv4_block3_2_conv[0][0]']    \n",
            " ization)                                                                                         \n",
            "                                                                                                  \n",
            " conv4_block3_2_relu (Activatio  (None, 4, 4, 256)   0           ['conv4_block3_2_bn[0][0]']      \n",
            " n)                                                                                               \n",
            "                                                                                                  \n",
            " conv4_block3_3_conv (Conv2D)   (None, 4, 4, 1024)   263168      ['conv4_block3_2_relu[0][0]']    \n",
            "                                                                                                  \n",
            " conv4_block3_3_bn (BatchNormal  (None, 4, 4, 1024)  4096        ['conv4_block3_3_conv[0][0]']    \n",
            " ization)                                                                                         \n",
            "                                                                                                  \n",
            " conv4_block3_add (Add)         (None, 4, 4, 1024)   0           ['conv4_block2_out[0][0]',       \n",
            "                                                                  'conv4_block3_3_bn[0][0]']      \n",
            "                                                                                                  \n",
            " conv4_block3_out (Activation)  (None, 4, 4, 1024)   0           ['conv4_block3_add[0][0]']       \n",
            "                                                                                                  \n",
            " conv4_block4_1_conv (Conv2D)   (None, 4, 4, 256)    262400      ['conv4_block3_out[0][0]']       \n",
            "                                                                                                  \n",
            " conv4_block4_1_bn (BatchNormal  (None, 4, 4, 256)   1024        ['conv4_block4_1_conv[0][0]']    \n",
            " ization)                                                                                         \n",
            "                                                                                                  \n",
            " conv4_block4_1_relu (Activatio  (None, 4, 4, 256)   0           ['conv4_block4_1_bn[0][0]']      \n",
            " n)                                                                                               \n",
            "                                                                                                  \n",
            " conv4_block4_2_conv (Conv2D)   (None, 4, 4, 256)    590080      ['conv4_block4_1_relu[0][0]']    \n",
            "                                                                                                  \n",
            " conv4_block4_2_bn (BatchNormal  (None, 4, 4, 256)   1024        ['conv4_block4_2_conv[0][0]']    \n",
            " ization)                                                                                         \n",
            "                                                                                                  \n",
            " conv4_block4_2_relu (Activatio  (None, 4, 4, 256)   0           ['conv4_block4_2_bn[0][0]']      \n",
            " n)                                                                                               \n",
            "                                                                                                  \n",
            " conv4_block4_3_conv (Conv2D)   (None, 4, 4, 1024)   263168      ['conv4_block4_2_relu[0][0]']    \n",
            "                                                                                                  \n",
            " conv4_block4_3_bn (BatchNormal  (None, 4, 4, 1024)  4096        ['conv4_block4_3_conv[0][0]']    \n",
            " ization)                                                                                         \n",
            "                                                                                                  \n",
            " conv4_block4_add (Add)         (None, 4, 4, 1024)   0           ['conv4_block3_out[0][0]',       \n",
            "                                                                  'conv4_block4_3_bn[0][0]']      \n",
            "                                                                                                  \n",
            " conv4_block4_out (Activation)  (None, 4, 4, 1024)   0           ['conv4_block4_add[0][0]']       \n",
            "                                                                                                  \n",
            " conv4_block5_1_conv (Conv2D)   (None, 4, 4, 256)    262400      ['conv4_block4_out[0][0]']       \n",
            "                                                                                                  \n",
            " conv4_block5_1_bn (BatchNormal  (None, 4, 4, 256)   1024        ['conv4_block5_1_conv[0][0]']    \n",
            " ization)                                                                                         \n",
            "                                                                                                  \n",
            " conv4_block5_1_relu (Activatio  (None, 4, 4, 256)   0           ['conv4_block5_1_bn[0][0]']      \n",
            " n)                                                                                               \n",
            "                                                                                                  \n",
            " conv4_block5_2_conv (Conv2D)   (None, 4, 4, 256)    590080      ['conv4_block5_1_relu[0][0]']    \n",
            "                                                                                                  \n",
            " conv4_block5_2_bn (BatchNormal  (None, 4, 4, 256)   1024        ['conv4_block5_2_conv[0][0]']    \n",
            " ization)                                                                                         \n",
            "                                                                                                  \n",
            " conv4_block5_2_relu (Activatio  (None, 4, 4, 256)   0           ['conv4_block5_2_bn[0][0]']      \n",
            " n)                                                                                               \n",
            "                                                                                                  \n",
            " conv4_block5_3_conv (Conv2D)   (None, 4, 4, 1024)   263168      ['conv4_block5_2_relu[0][0]']    \n",
            "                                                                                                  \n",
            " conv4_block5_3_bn (BatchNormal  (None, 4, 4, 1024)  4096        ['conv4_block5_3_conv[0][0]']    \n",
            " ization)                                                                                         \n",
            "                                                                                                  \n",
            " conv4_block5_add (Add)         (None, 4, 4, 1024)   0           ['conv4_block4_out[0][0]',       \n",
            "                                                                  'conv4_block5_3_bn[0][0]']      \n",
            "                                                                                                  \n",
            " conv4_block5_out (Activation)  (None, 4, 4, 1024)   0           ['conv4_block5_add[0][0]']       \n",
            "                                                                                                  \n",
            " conv4_block6_1_conv (Conv2D)   (None, 4, 4, 256)    262400      ['conv4_block5_out[0][0]']       \n",
            "                                                                                                  \n",
            " conv4_block6_1_bn (BatchNormal  (None, 4, 4, 256)   1024        ['conv4_block6_1_conv[0][0]']    \n",
            " ization)                                                                                         \n",
            "                                                                                                  \n",
            " conv4_block6_1_relu (Activatio  (None, 4, 4, 256)   0           ['conv4_block6_1_bn[0][0]']      \n",
            " n)                                                                                               \n",
            "                                                                                                  \n",
            " conv4_block6_2_conv (Conv2D)   (None, 4, 4, 256)    590080      ['conv4_block6_1_relu[0][0]']    \n",
            "                                                                                                  \n",
            " conv4_block6_2_bn (BatchNormal  (None, 4, 4, 256)   1024        ['conv4_block6_2_conv[0][0]']    \n",
            " ization)                                                                                         \n",
            "                                                                                                  \n",
            " conv4_block6_2_relu (Activatio  (None, 4, 4, 256)   0           ['conv4_block6_2_bn[0][0]']      \n",
            " n)                                                                                               \n",
            "                                                                                                  \n",
            " conv4_block6_3_conv (Conv2D)   (None, 4, 4, 1024)   263168      ['conv4_block6_2_relu[0][0]']    \n",
            "                                                                                                  \n",
            " conv4_block6_3_bn (BatchNormal  (None, 4, 4, 1024)  4096        ['conv4_block6_3_conv[0][0]']    \n",
            " ization)                                                                                         \n",
            "                                                                                                  \n",
            " conv4_block6_add (Add)         (None, 4, 4, 1024)   0           ['conv4_block5_out[0][0]',       \n",
            "                                                                  'conv4_block6_3_bn[0][0]']      \n",
            "                                                                                                  \n",
            " conv4_block6_out (Activation)  (None, 4, 4, 1024)   0           ['conv4_block6_add[0][0]']       \n",
            "                                                                                                  \n",
            " conv5_block1_1_conv (Conv2D)   (None, 2, 2, 512)    524800      ['conv4_block6_out[0][0]']       \n",
            "                                                                                                  \n",
            " conv5_block1_1_bn (BatchNormal  (None, 2, 2, 512)   2048        ['conv5_block1_1_conv[0][0]']    \n",
            " ization)                                                                                         \n",
            "                                                                                                  \n",
            " conv5_block1_1_relu (Activatio  (None, 2, 2, 512)   0           ['conv5_block1_1_bn[0][0]']      \n",
            " n)                                                                                               \n",
            "                                                                                                  \n",
            " conv5_block1_2_conv (Conv2D)   (None, 2, 2, 512)    2359808     ['conv5_block1_1_relu[0][0]']    \n",
            "                                                                                                  \n",
            " conv5_block1_2_bn (BatchNormal  (None, 2, 2, 512)   2048        ['conv5_block1_2_conv[0][0]']    \n",
            " ization)                                                                                         \n",
            "                                                                                                  \n",
            " conv5_block1_2_relu (Activatio  (None, 2, 2, 512)   0           ['conv5_block1_2_bn[0][0]']      \n",
            " n)                                                                                               \n",
            "                                                                                                  \n",
            " conv5_block1_0_conv (Conv2D)   (None, 2, 2, 2048)   2099200     ['conv4_block6_out[0][0]']       \n",
            "                                                                                                  \n",
            " conv5_block1_3_conv (Conv2D)   (None, 2, 2, 2048)   1050624     ['conv5_block1_2_relu[0][0]']    \n",
            "                                                                                                  \n",
            " conv5_block1_0_bn (BatchNormal  (None, 2, 2, 2048)  8192        ['conv5_block1_0_conv[0][0]']    \n",
            " ization)                                                                                         \n",
            "                                                                                                  \n",
            " conv5_block1_3_bn (BatchNormal  (None, 2, 2, 2048)  8192        ['conv5_block1_3_conv[0][0]']    \n",
            " ization)                                                                                         \n",
            "                                                                                                  \n",
            " conv5_block1_add (Add)         (None, 2, 2, 2048)   0           ['conv5_block1_0_bn[0][0]',      \n",
            "                                                                  'conv5_block1_3_bn[0][0]']      \n",
            "                                                                                                  \n",
            " conv5_block1_out (Activation)  (None, 2, 2, 2048)   0           ['conv5_block1_add[0][0]']       \n",
            "                                                                                                  \n",
            " conv5_block2_1_conv (Conv2D)   (None, 2, 2, 512)    1049088     ['conv5_block1_out[0][0]']       \n",
            "                                                                                                  \n",
            " conv5_block2_1_bn (BatchNormal  (None, 2, 2, 512)   2048        ['conv5_block2_1_conv[0][0]']    \n",
            " ization)                                                                                         \n",
            "                                                                                                  \n",
            " conv5_block2_1_relu (Activatio  (None, 2, 2, 512)   0           ['conv5_block2_1_bn[0][0]']      \n",
            " n)                                                                                               \n",
            "                                                                                                  \n",
            " conv5_block2_2_conv (Conv2D)   (None, 2, 2, 512)    2359808     ['conv5_block2_1_relu[0][0]']    \n",
            "                                                                                                  \n",
            " conv5_block2_2_bn (BatchNormal  (None, 2, 2, 512)   2048        ['conv5_block2_2_conv[0][0]']    \n",
            " ization)                                                                                         \n",
            "                                                                                                  \n",
            " conv5_block2_2_relu (Activatio  (None, 2, 2, 512)   0           ['conv5_block2_2_bn[0][0]']      \n",
            " n)                                                                                               \n",
            "                                                                                                  \n",
            " conv5_block2_3_conv (Conv2D)   (None, 2, 2, 2048)   1050624     ['conv5_block2_2_relu[0][0]']    \n",
            "                                                                                                  \n",
            " conv5_block2_3_bn (BatchNormal  (None, 2, 2, 2048)  8192        ['conv5_block2_3_conv[0][0]']    \n",
            " ization)                                                                                         \n",
            "                                                                                                  \n",
            " conv5_block2_add (Add)         (None, 2, 2, 2048)   0           ['conv5_block1_out[0][0]',       \n",
            "                                                                  'conv5_block2_3_bn[0][0]']      \n",
            "                                                                                                  \n",
            " conv5_block2_out (Activation)  (None, 2, 2, 2048)   0           ['conv5_block2_add[0][0]']       \n",
            "                                                                                                  \n",
            " conv5_block3_1_conv (Conv2D)   (None, 2, 2, 512)    1049088     ['conv5_block2_out[0][0]']       \n",
            "                                                                                                  \n",
            " conv5_block3_1_bn (BatchNormal  (None, 2, 2, 512)   2048        ['conv5_block3_1_conv[0][0]']    \n",
            " ization)                                                                                         \n",
            "                                                                                                  \n",
            " conv5_block3_1_relu (Activatio  (None, 2, 2, 512)   0           ['conv5_block3_1_bn[0][0]']      \n",
            " n)                                                                                               \n",
            "                                                                                                  \n",
            " conv5_block3_2_conv (Conv2D)   (None, 2, 2, 512)    2359808     ['conv5_block3_1_relu[0][0]']    \n",
            "                                                                                                  \n",
            " conv5_block3_2_bn (BatchNormal  (None, 2, 2, 512)   2048        ['conv5_block3_2_conv[0][0]']    \n",
            " ization)                                                                                         \n",
            "                                                                                                  \n",
            " conv5_block3_2_relu (Activatio  (None, 2, 2, 512)   0           ['conv5_block3_2_bn[0][0]']      \n",
            " n)                                                                                               \n",
            "                                                                                                  \n",
            " conv5_block3_3_conv (Conv2D)   (None, 2, 2, 2048)   1050624     ['conv5_block3_2_relu[0][0]']    \n",
            "                                                                                                  \n",
            " conv5_block3_3_bn (BatchNormal  (None, 2, 2, 2048)  8192        ['conv5_block3_3_conv[0][0]']    \n",
            " ization)                                                                                         \n",
            "                                                                                                  \n",
            " conv5_block3_add (Add)         (None, 2, 2, 2048)   0           ['conv5_block2_out[0][0]',       \n",
            "                                                                  'conv5_block3_3_bn[0][0]']      \n",
            "                                                                                                  \n",
            " conv5_block3_out (Activation)  (None, 2, 2, 2048)   0           ['conv5_block3_add[0][0]']       \n",
            "                                                                                                  \n",
            " rescaling (Rescaling)          (None, 2, 2, 2048)   0           ['conv5_block3_out[0][0]']       \n",
            "                                                                                                  \n",
            " batch_normalization (BatchNorm  (None, 2, 2, 2048)  8192        ['rescaling[0][0]']              \n",
            " alization)                                                                                       \n",
            "                                                                                                  \n",
            " flatten (Flatten)              (None, 8192)         0           ['batch_normalization[0][0]']    \n",
            "                                                                                                  \n",
            " dropout (Dropout)              (None, 8192)         0           ['flatten[0][0]']                \n",
            "                                                                                                  \n",
            " dense (Dense)                  (None, 1024)         8389632     ['dropout[0][0]']                \n",
            "                                                                                                  \n",
            " dense_1 (Dense)                (None, 100)          102500      ['dense[0][0]']                  \n",
            "                                                                                                  \n",
            "==================================================================================================\n",
            "Total params: 32,088,036\n",
            "Trainable params: 28,802,916\n",
            "Non-trainable params: 3,285,120\n",
            "__________________________________________________________________________________________________\n"
          ]
        }
      ]
    },
    {
      "cell_type": "code",
      "metadata": {
        "_uuid": "172eb8e295a26fb76f338814798c73568456fd7f",
        "id": "d3TzLswd9zft"
      },
      "source": [
        "model.compile(optimizer = Adagrad(learning_rate = 0.01),\n",
        "              loss = 'sparse_categorical_crossentropy', \n",
        "              metrics = ['accuracy'])"
      ],
      "execution_count": null,
      "outputs": []
    },
    {
      "cell_type": "code",
      "source": [
        "model.compile(\n",
        "  #optimizer=tf.keras.optimizers.Adam(),\n",
        "  optimizer=tf.keras.optimizers.SGD(learning_rate=1e-3, momentum=0.9),\n",
        "  loss = 'sparse_categorical_crossentropy', \n",
        "  #loss=tf.keras.losses.SparseCategoricalCrossentropy(from_logits=True),\n",
        "  #loss=tf.keras.losses.CategoricalCrossentropy(from_logits=True),\n",
        "  metrics=['acc'])\n"
      ],
      "metadata": {
        "id": "PWFUs6t98K0H"
      },
      "execution_count": 13,
      "outputs": []
    },
    {
      "cell_type": "markdown",
      "source": [
        "Train the Model"
      ],
      "metadata": {
        "id": "-QfS95nMOhGO"
      }
    },
    {
      "cell_type": "code",
      "source": [
        "NUM_EPOCHS = 15\n",
        "batch_size = 128\n",
        "\n",
        "history = model.fit(x_train, y_train,\n",
        "                    epochs=NUM_EPOCHS,\n",
        "                    batch_size=batch_size,\n",
        "                    validation_data=(x_val,y_val))"
      ],
      "metadata": {
        "colab": {
          "base_uri": "https://localhost:8080/"
        },
        "id": "DK8GVLPE5Kq5",
        "outputId": "c1b77bb8-28a2-4067-d63d-af8ca0c3cebb"
      },
      "execution_count": 14,
      "outputs": [
        {
          "output_type": "stream",
          "name": "stdout",
          "text": [
            "Epoch 1/15\n",
            "352/352 [==============================] - 46s 87ms/step - loss: 4.4526 - acc: 0.0569 - val_loss: 4.4610 - val_acc: 0.1964\n",
            "Epoch 2/15\n",
            "352/352 [==============================] - 29s 82ms/step - loss: 3.7121 - acc: 0.2465 - val_loss: 3.2691 - val_acc: 0.3282\n",
            "Epoch 3/15\n",
            "352/352 [==============================] - 30s 85ms/step - loss: 2.7237 - acc: 0.3848 - val_loss: 2.3017 - val_acc: 0.4512\n",
            "Epoch 4/15\n",
            "352/352 [==============================] - 30s 85ms/step - loss: 2.0630 - acc: 0.4926 - val_loss: 1.9989 - val_acc: 0.5162\n",
            "Epoch 5/15\n",
            "352/352 [==============================] - 30s 84ms/step - loss: 1.6920 - acc: 0.5671 - val_loss: 1.8303 - val_acc: 0.5428\n",
            "Epoch 6/15\n",
            "352/352 [==============================] - 31s 88ms/step - loss: 1.4179 - acc: 0.6291 - val_loss: 1.7509 - val_acc: 0.5608\n",
            "Epoch 7/15\n",
            "352/352 [==============================] - 30s 85ms/step - loss: 1.1795 - acc: 0.6900 - val_loss: 1.7148 - val_acc: 0.5714\n",
            "Epoch 8/15\n",
            "352/352 [==============================] - 30s 85ms/step - loss: 0.9668 - acc: 0.7439 - val_loss: 1.7271 - val_acc: 0.5708\n",
            "Epoch 9/15\n",
            "352/352 [==============================] - 30s 85ms/step - loss: 0.7736 - acc: 0.7965 - val_loss: 1.7315 - val_acc: 0.5798\n",
            "Epoch 10/15\n",
            "352/352 [==============================] - 31s 87ms/step - loss: 0.6022 - acc: 0.8424 - val_loss: 1.7902 - val_acc: 0.5804\n",
            "Epoch 11/15\n",
            "352/352 [==============================] - 31s 87ms/step - loss: 0.4614 - acc: 0.8845 - val_loss: 1.8540 - val_acc: 0.5776\n",
            "Epoch 12/15\n",
            "352/352 [==============================] - 30s 84ms/step - loss: 0.3441 - acc: 0.9182 - val_loss: 1.8865 - val_acc: 0.5716\n",
            "Epoch 13/15\n",
            "352/352 [==============================] - 30s 85ms/step - loss: 0.2542 - acc: 0.9424 - val_loss: 1.9712 - val_acc: 0.5722\n",
            "Epoch 14/15\n",
            "352/352 [==============================] - 30s 85ms/step - loss: 0.1839 - acc: 0.9618 - val_loss: 2.0229 - val_acc: 0.5732\n",
            "Epoch 15/15\n",
            "352/352 [==============================] - 30s 85ms/step - loss: 0.1348 - acc: 0.9749 - val_loss: 2.0892 - val_acc: 0.5652\n"
          ]
        }
      ]
    },
    {
      "cell_type": "markdown",
      "source": [
        "Generate Test dataset"
      ],
      "metadata": {
        "id": "29JmUbhYOcb9"
      }
    },
    {
      "cell_type": "code",
      "source": [
        "x_test = []\n",
        "for i in test_dir:\n",
        "    img = Image.open(i).convert(\"RGB\")\n",
        "    img = np.asarray(img)\n",
        "    x_test.append(img)\n",
        "\n",
        "x_test = np.asarray(x_test)"
      ],
      "metadata": {
        "id": "JQDR5ufF6ubk"
      },
      "execution_count": 15,
      "outputs": []
    },
    {
      "cell_type": "code",
      "source": [
        "print(x_test.shape)"
      ],
      "metadata": {
        "colab": {
          "base_uri": "https://localhost:8080/"
        },
        "id": "LslQAGnt9KvS",
        "outputId": "16b37605-e464-43f1-a90c-245d3c204a28"
      },
      "execution_count": 16,
      "outputs": [
        {
          "output_type": "stream",
          "name": "stdout",
          "text": [
            "(5000, 64, 64, 3)\n"
          ]
        }
      ]
    },
    {
      "cell_type": "markdown",
      "source": [
        "Prediction"
      ],
      "metadata": {
        "id": "-dPy5curOaD1"
      }
    },
    {
      "cell_type": "code",
      "source": [
        "import csv\n",
        "from keras.preprocessing import image\n",
        "final_predictions = [0] * 5000\n",
        "filename = 'tiny-imagenet-100/submission_sample.csv'\n",
        "\n",
        "with open(filename, 'r') as csvfile:\n",
        "    datareader = csv.reader(csvfile)\n",
        "    next(datareader)\n",
        "    n = 0\n",
        "    for row, i in datareader:\n",
        "        img_path = 'tiny-imagenet-100/test/images/%s.JPEG' % row\n",
        "        #print(img_path)\n",
        "        img = image.load_img(img_path, target_size=(64, 64))\n",
        "        x = image.img_to_array(img)\n",
        "        x = np.expand_dims(x, axis=0)\n",
        "        #x = preprocess_input(x)\n",
        "        preds = model.predict(x)\n",
        "        final_predictions[n] = np.argmax(preds)\n",
        "        #preds.argmax()\n",
        "        #tf.math.argmax(predicted_batch, axis=-1)\n",
        "        n = n + 1\n",
        "print(final_predictions)\n"
      ],
      "metadata": {
        "id": "5fsnhj8jDUj5",
        "colab": {
          "base_uri": "https://localhost:8080/"
        },
        "outputId": "7f25bce5-745f-4fdb-e970-f2014124b12f"
      },
      "execution_count": 17,
      "outputs": [
        {
          "output_type": "stream",
          "name": "stdout",
          "text": [
            "[9, 80, 59, 77, 80, 91, 79, 77, 16, 25, 26, 55, 85, 28, 48, 41, 50, 76, 53, 18, 94, 22, 65, 43, 59, 51, 46, 83, 12, 28, 82, 85, 43, 12, 95, 87, 8, 15, 28, 46, 83, 1, 2, 54, 0, 85, 11, 56, 28, 25, 40, 18, 67, 58, 44, 22, 46, 49, 11, 63, 5, 38, 30, 34, 84, 13, 42, 29, 68, 4, 87, 17, 10, 46, 94, 30, 86, 5, 1, 32, 54, 82, 33, 57, 62, 74, 38, 45, 51, 76, 59, 25, 34, 44, 39, 45, 5, 88, 29, 47, 93, 66, 78, 41, 62, 67, 4, 5, 13, 21, 18, 30, 1, 36, 82, 41, 6, 86, 74, 19, 76, 37, 5, 7, 55, 96, 71, 86, 60, 98, 39, 32, 7, 82, 59, 19, 12, 30, 81, 62, 32, 37, 49, 70, 42, 16, 66, 34, 57, 68, 13, 97, 31, 59, 10, 29, 8, 39, 40, 63, 91, 98, 93, 69, 49, 48, 98, 28, 81, 82, 15, 90, 42, 65, 35, 90, 1, 65, 58, 98, 30, 57, 79, 57, 81, 16, 61, 92, 35, 98, 33, 44, 49, 53, 66, 34, 35, 48, 51, 69, 30, 91, 73, 76, 20, 76, 62, 36, 83, 51, 46, 48, 87, 62, 90, 60, 12, 23, 43, 39, 28, 39, 49, 53, 13, 71, 23, 80, 34, 47, 14, 25, 60, 85, 3, 46, 50, 46, 31, 27, 85, 7, 12, 95, 0, 46, 3, 17, 19, 3, 77, 74, 24, 19, 86, 88, 16, 51, 35, 6, 22, 30, 70, 34, 24, 95, 82, 27, 83, 19, 72, 27, 19, 5, 69, 75, 0, 59, 74, 48, 6, 96, 93, 43, 48, 12, 7, 10, 58, 26, 60, 19, 62, 20, 16, 84, 46, 73, 89, 49, 11, 27, 66, 24, 14, 32, 48, 48, 25, 98, 7, 60, 31, 23, 37, 1, 6, 17, 69, 92, 5, 93, 20, 96, 9, 34, 59, 67, 2, 41, 47, 35, 21, 67, 26, 95, 65, 65, 96, 93, 48, 42, 39, 19, 83, 77, 50, 66, 71, 58, 78, 60, 27, 60, 18, 38, 89, 63, 40, 20, 37, 46, 24, 83, 93, 30, 33, 1, 77, 78, 85, 9, 60, 63, 94, 38, 16, 1, 41, 65, 76, 36, 97, 71, 76, 11, 70, 44, 76, 28, 22, 32, 92, 19, 25, 91, 78, 2, 28, 9, 66, 71, 23, 81, 59, 92, 23, 79, 18, 21, 43, 1, 9, 28, 32, 16, 74, 28, 48, 11, 32, 20, 76, 76, 93, 93, 64, 71, 63, 81, 91, 62, 59, 55, 59, 23, 39, 89, 49, 38, 74, 74, 46, 6, 91, 50, 19, 9, 4, 15, 51, 67, 34, 80, 5, 1, 6, 38, 9, 19, 26, 74, 11, 84, 64, 34, 24, 4, 37, 84, 41, 88, 36, 4, 57, 50, 55, 25, 26, 99, 41, 19, 55, 72, 63, 40, 41, 83, 79, 4, 26, 23, 5, 10, 92, 43, 55, 84, 31, 62, 75, 39, 15, 35, 45, 48, 69, 91, 36, 84, 15, 31, 96, 38, 74, 79, 88, 86, 6, 72, 58, 21, 61, 58, 37, 91, 46, 91, 68, 53, 65, 83, 51, 54, 85, 65, 18, 57, 90, 37, 47, 33, 76, 99, 77, 97, 94, 37, 16, 37, 48, 13, 92, 40, 83, 49, 81, 41, 70, 92, 21, 47, 31, 32, 77, 4, 57, 72, 80, 11, 19, 50, 60, 77, 66, 60, 7, 72, 88, 42, 22, 26, 66, 99, 47, 65, 0, 65, 64, 47, 0, 12, 17, 50, 1, 65, 97, 99, 99, 85, 81, 44, 4, 82, 57, 5, 81, 94, 79, 56, 79, 8, 10, 37, 14, 6, 6, 29, 36, 19, 50, 38, 44, 41, 34, 22, 18, 69, 9, 19, 83, 77, 99, 11, 98, 54, 90, 83, 28, 59, 84, 27, 32, 20, 90, 3, 4, 93, 14, 99, 14, 46, 90, 20, 42, 33, 36, 38, 31, 30, 92, 0, 70, 23, 43, 78, 65, 46, 62, 86, 68, 43, 72, 83, 96, 66, 25, 13, 13, 12, 11, 62, 23, 99, 74, 74, 80, 57, 29, 8, 26, 89, 23, 88, 74, 39, 97, 57, 92, 5, 92, 13, 65, 45, 63, 63, 55, 27, 87, 24, 58, 21, 20, 84, 61, 82, 69, 34, 27, 2, 20, 17, 15, 46, 3, 5, 84, 53, 92, 91, 38, 99, 59, 53, 80, 7, 85, 16, 69, 88, 89, 78, 93, 75, 91, 0, 76, 2, 36, 3, 15, 15, 10, 43, 85, 66, 55, 10, 50, 18, 98, 13, 76, 54, 66, 23, 40, 74, 94, 19, 49, 95, 21, 15, 61, 44, 54, 85, 20, 84, 2, 50, 0, 72, 59, 42, 88, 67, 68, 74, 38, 36, 93, 55, 41, 38, 55, 47, 38, 75, 36, 63, 55, 75, 63, 64, 53, 21, 79, 38, 12, 84, 70, 97, 8, 82, 96, 52, 10, 17, 31, 68, 30, 5, 96, 22, 26, 2, 77, 84, 17, 72, 1, 47, 31, 67, 0, 67, 0, 43, 61, 17, 91, 79, 17, 61, 43, 12, 6, 23, 68, 40, 12, 37, 40, 33, 50, 79, 56, 24, 83, 9, 74, 95, 29, 75, 75, 8, 11, 54, 27, 74, 66, 74, 52, 58, 42, 44, 6, 30, 55, 79, 65, 71, 0, 40, 96, 2, 3, 23, 25, 5, 19, 17, 81, 20, 38, 27, 92, 50, 71, 51, 3, 35, 7, 97, 40, 46, 26, 16, 66, 58, 74, 28, 73, 26, 69, 80, 55, 0, 95, 15, 33, 64, 24, 37, 33, 34, 69, 2, 81, 17, 6, 99, 90, 71, 93, 65, 71, 35, 52, 43, 60, 96, 77, 47, 18, 98, 90, 93, 49, 19, 21, 85, 22, 81, 46, 16, 26, 43, 57, 64, 16, 74, 32, 2, 29, 96, 55, 45, 85, 26, 10, 6, 22, 3, 10, 58, 89, 77, 77, 73, 91, 0, 42, 60, 62, 12, 75, 60, 87, 28, 76, 71, 37, 47, 42, 48, 12, 30, 93, 5, 60, 0, 61, 97, 95, 88, 85, 14, 57, 40, 8, 80, 13, 9, 69, 60, 74, 3, 60, 57, 27, 57, 42, 47, 93, 38, 12, 39, 21, 52, 78, 43, 79, 37, 51, 9, 90, 41, 52, 41, 19, 85, 56, 2, 83, 27, 92, 6, 85, 1, 14, 4, 61, 85, 29, 9, 99, 34, 8, 6, 86, 47, 89, 13, 8, 28, 40, 28, 67, 83, 40, 99, 44, 42, 40, 72, 1, 28, 27, 38, 99, 17, 48, 73, 15, 40, 90, 60, 21, 37, 15, 34, 8, 5, 68, 52, 61, 93, 24, 94, 5, 98, 63, 56, 33, 20, 94, 78, 74, 83, 88, 75, 96, 27, 73, 4, 41, 46, 16, 70, 42, 2, 6, 31, 73, 70, 47, 96, 22, 81, 96, 22, 48, 87, 57, 28, 92, 60, 39, 30, 15, 52, 8, 90, 34, 31, 77, 15, 96, 2, 5, 3, 61, 8, 44, 25, 40, 48, 87, 15, 41, 54, 49, 2, 16, 1, 75, 56, 26, 98, 93, 8, 60, 90, 86, 1, 2, 26, 55, 77, 67, 56, 54, 14, 35, 76, 15, 23, 34, 59, 36, 17, 5, 39, 61, 65, 53, 81, 85, 63, 37, 14, 94, 11, 73, 47, 37, 45, 84, 89, 63, 33, 8, 43, 39, 52, 91, 57, 34, 89, 42, 28, 73, 21, 37, 93, 43, 61, 85, 30, 57, 2, 42, 78, 44, 49, 24, 12, 86, 22, 46, 36, 0, 61, 19, 27, 90, 2, 39, 83, 9, 79, 67, 11, 91, 44, 45, 8, 0, 0, 57, 37, 23, 92, 50, 34, 39, 0, 33, 50, 0, 94, 32, 19, 0, 27, 79, 97, 30, 6, 94, 15, 13, 37, 84, 60, 70, 62, 86, 84, 91, 79, 10, 2, 96, 71, 27, 75, 34, 44, 27, 89, 19, 13, 41, 42, 38, 77, 15, 0, 50, 87, 10, 33, 63, 71, 28, 29, 44, 59, 90, 82, 33, 56, 25, 86, 14, 1, 23, 35, 94, 63, 53, 53, 97, 51, 30, 53, 99, 39, 43, 31, 93, 25, 68, 85, 16, 72, 90, 57, 61, 16, 93, 17, 59, 28, 88, 1, 45, 54, 95, 84, 42, 10, 21, 61, 43, 27, 45, 63, 96, 3, 56, 7, 87, 94, 58, 38, 30, 5, 73, 1, 70, 19, 75, 50, 66, 36, 20, 90, 46, 0, 16, 53, 96, 0, 28, 57, 28, 27, 85, 22, 84, 32, 34, 64, 90, 68, 92, 97, 55, 25, 35, 92, 80, 79, 6, 48, 36, 41, 45, 56, 43, 65, 95, 9, 27, 89, 99, 71, 72, 4, 42, 5, 7, 14, 61, 79, 39, 98, 73, 68, 93, 24, 76, 73, 16, 31, 37, 5, 20, 96, 76, 79, 64, 89, 34, 43, 63, 9, 97, 27, 25, 90, 77, 58, 87, 76, 8, 1, 75, 16, 6, 20, 3, 57, 70, 77, 39, 60, 55, 27, 19, 27, 55, 30, 91, 70, 59, 12, 9, 25, 56, 93, 26, 73, 25, 41, 81, 19, 64, 1, 49, 18, 45, 37, 22, 35, 88, 84, 97, 91, 36, 89, 29, 21, 70, 58, 41, 96, 15, 58, 76, 13, 71, 19, 35, 35, 23, 71, 95, 20, 90, 5, 81, 3, 84, 55, 91, 66, 34, 84, 63, 1, 44, 34, 51, 76, 90, 96, 68, 74, 27, 35, 40, 80, 30, 12, 84, 20, 9, 28, 76, 89, 93, 3, 9, 77, 17, 82, 59, 92, 86, 54, 49, 71, 3, 85, 88, 91, 54, 96, 45, 93, 57, 9, 30, 83, 44, 87, 1, 32, 8, 24, 53, 79, 26, 56, 4, 73, 3, 82, 37, 87, 77, 1, 77, 16, 40, 53, 30, 7, 14, 5, 32, 52, 74, 53, 90, 4, 50, 49, 95, 52, 4, 71, 25, 60, 87, 77, 67, 91, 43, 91, 73, 10, 89, 90, 28, 48, 24, 69, 20, 21, 97, 61, 54, 83, 59, 29, 52, 30, 23, 99, 53, 79, 42, 31, 66, 42, 84, 23, 89, 71, 15, 4, 36, 84, 5, 85, 32, 61, 82, 81, 37, 10, 72, 75, 16, 19, 49, 74, 47, 10, 33, 7, 20, 8, 48, 60, 8, 31, 1, 25, 93, 45, 95, 73, 94, 16, 7, 86, 60, 4, 17, 67, 30, 61, 57, 88, 15, 87, 90, 53, 23, 69, 2, 52, 87, 57, 63, 47, 57, 32, 83, 4, 56, 59, 31, 3, 47, 37, 55, 95, 65, 27, 28, 9, 95, 32, 96, 1, 42, 74, 79, 44, 43, 85, 5, 27, 2, 30, 88, 6, 54, 1, 22, 64, 34, 96, 38, 35, 11, 98, 16, 92, 0, 59, 43, 98, 36, 93, 82, 68, 33, 82, 0, 49, 15, 53, 15, 67, 91, 94, 86, 91, 55, 82, 6, 40, 29, 75, 31, 41, 89, 70, 9, 64, 67, 99, 61, 5, 97, 92, 11, 81, 52, 86, 76, 6, 24, 81, 13, 27, 68, 33, 72, 68, 95, 85, 99, 60, 78, 69, 35, 87, 76, 16, 29, 34, 14, 84, 78, 78, 73, 68, 33, 8, 48, 30, 65, 91, 60, 32, 93, 14, 30, 72, 23, 95, 13, 60, 20, 86, 19, 60, 5, 99, 12, 90, 31, 47, 89, 54, 55, 74, 46, 49, 22, 55, 68, 40, 47, 12, 43, 15, 59, 69, 18, 99, 37, 67, 34, 30, 68, 48, 57, 92, 5, 80, 20, 59, 1, 26, 78, 47, 94, 46, 98, 72, 63, 81, 34, 33, 62, 44, 80, 88, 35, 52, 37, 12, 48, 49, 39, 61, 49, 12, 15, 12, 6, 8, 91, 72, 95, 16, 76, 44, 13, 25, 25, 11, 74, 2, 87, 92, 61, 9, 50, 77, 50, 29, 77, 93, 57, 57, 24, 19, 3, 34, 1, 45, 16, 10, 43, 38, 43, 65, 35, 37, 99, 24, 5, 53, 21, 65, 96, 87, 6, 83, 56, 48, 41, 87, 40, 66, 97, 65, 51, 68, 45, 66, 15, 72, 21, 61, 91, 65, 72, 86, 88, 19, 14, 5, 48, 34, 80, 79, 89, 62, 81, 36, 35, 21, 4, 70, 5, 17, 29, 80, 43, 87, 47, 42, 80, 20, 16, 59, 53, 4, 51, 53, 18, 70, 66, 29, 40, 44, 29, 8, 9, 30, 13, 67, 57, 37, 75, 17, 21, 76, 76, 82, 9, 0, 28, 15, 78, 1, 89, 99, 84, 93, 57, 42, 25, 51, 15, 0, 84, 21, 85, 90, 76, 35, 13, 16, 86, 8, 79, 69, 9, 94, 68, 91, 54, 13, 77, 84, 4, 86, 78, 4, 46, 1, 30, 23, 8, 31, 56, 71, 35, 23, 54, 10, 73, 49, 21, 17, 61, 12, 74, 55, 48, 69, 83, 66, 55, 7, 56, 9, 79, 58, 14, 32, 22, 94, 85, 62, 51, 41, 12, 33, 60, 76, 47, 60, 13, 72, 82, 82, 49, 27, 42, 96, 67, 76, 17, 49, 4, 56, 51, 44, 80, 29, 30, 57, 9, 10, 31, 97, 58, 19, 13, 29, 98, 57, 14, 6, 1, 69, 63, 54, 95, 94, 8, 95, 70, 70, 29, 72, 9, 59, 26, 71, 99, 40, 26, 73, 72, 91, 70, 62, 46, 35, 20, 75, 49, 10, 24, 56, 23, 34, 14, 67, 56, 35, 15, 79, 4, 59, 2, 85, 28, 32, 67, 3, 26, 9, 74, 60, 83, 73, 77, 92, 64, 85, 69, 35, 55, 68, 46, 99, 24, 36, 51, 82, 54, 3, 3, 81, 47, 92, 50, 95, 13, 97, 77, 43, 69, 44, 80, 48, 33, 51, 50, 76, 87, 94, 11, 0, 3, 97, 17, 96, 11, 93, 88, 83, 68, 13, 43, 90, 81, 89, 30, 86, 7, 75, 75, 46, 58, 84, 74, 17, 25, 76, 97, 81, 60, 92, 73, 43, 73, 78, 54, 4, 19, 38, 63, 78, 14, 25, 27, 67, 1, 65, 18, 91, 29, 63, 73, 30, 8, 96, 29, 89, 86, 87, 35, 77, 58, 71, 51, 28, 48, 31, 80, 35, 18, 16, 44, 69, 11, 95, 91, 25, 24, 74, 83, 62, 13, 75, 57, 82, 91, 66, 27, 92, 42, 10, 43, 32, 13, 48, 93, 12, 77, 50, 35, 84, 90, 54, 6, 71, 50, 27, 38, 89, 57, 82, 27, 34, 24, 21, 34, 32, 75, 66, 26, 51, 14, 50, 21, 69, 81, 91, 37, 50, 34, 19, 97, 27, 24, 6, 28, 29, 93, 25, 17, 23, 28, 47, 17, 47, 37, 15, 87, 27, 66, 75, 49, 25, 61, 22, 76, 47, 78, 50, 47, 91, 72, 20, 35, 23, 31, 0, 60, 89, 55, 37, 92, 43, 41, 74, 66, 49, 96, 9, 65, 54, 92, 95, 36, 74, 83, 51, 78, 57, 14, 55, 83, 71, 0, 53, 9, 87, 57, 61, 1, 91, 61, 1, 43, 77, 52, 97, 80, 60, 50, 58, 83, 7, 57, 46, 14, 84, 67, 67, 87, 76, 99, 49, 32, 18, 34, 70, 47, 71, 30, 2, 21, 43, 97, 75, 72, 73, 33, 40, 86, 30, 42, 32, 95, 55, 47, 56, 37, 43, 42, 19, 35, 80, 30, 59, 57, 32, 53, 89, 57, 7, 34, 75, 35, 75, 50, 94, 53, 12, 11, 63, 38, 89, 4, 76, 90, 41, 90, 74, 77, 54, 23, 59, 89, 30, 6, 31, 41, 15, 15, 99, 58, 75, 59, 84, 38, 44, 46, 74, 19, 4, 44, 31, 91, 4, 83, 72, 6, 33, 65, 61, 66, 40, 77, 27, 69, 14, 81, 53, 9, 27, 8, 15, 73, 72, 93, 20, 13, 75, 12, 50, 93, 10, 51, 5, 58, 11, 68, 17, 30, 27, 74, 23, 98, 98, 72, 54, 77, 13, 53, 47, 91, 0, 89, 19, 41, 62, 88, 41, 94, 63, 75, 18, 40, 53, 20, 14, 48, 77, 98, 81, 27, 6, 68, 64, 78, 12, 71, 56, 58, 50, 94, 7, 63, 86, 49, 85, 81, 22, 86, 30, 91, 13, 59, 55, 70, 74, 93, 60, 62, 67, 60, 10, 79, 52, 51, 40, 23, 44, 81, 42, 94, 9, 81, 80, 12, 71, 51, 65, 85, 19, 25, 80, 45, 45, 14, 33, 12, 60, 74, 43, 21, 50, 84, 76, 55, 0, 24, 69, 56, 49, 17, 41, 42, 50, 45, 5, 85, 75, 46, 94, 48, 32, 61, 35, 1, 60, 65, 80, 63, 0, 4, 38, 16, 60, 93, 2, 71, 29, 15, 15, 82, 56, 65, 21, 35, 57, 48, 36, 30, 9, 9, 31, 45, 65, 48, 30, 81, 27, 11, 39, 99, 64, 17, 95, 25, 85, 13, 33, 25, 56, 88, 99, 68, 35, 69, 11, 57, 26, 58, 6, 75, 94, 43, 1, 30, 28, 17, 97, 60, 3, 15, 81, 78, 36, 93, 61, 67, 16, 90, 53, 7, 59, 65, 95, 53, 13, 88, 41, 8, 37, 3, 49, 40, 28, 81, 19, 19, 57, 40, 65, 21, 85, 6, 13, 3, 49, 22, 70, 11, 61, 72, 5, 57, 3, 9, 27, 50, 31, 85, 61, 0, 33, 92, 33, 53, 26, 17, 24, 31, 88, 62, 72, 21, 57, 34, 38, 18, 4, 62, 62, 89, 42, 59, 12, 11, 45, 84, 89, 22, 95, 42, 71, 65, 72, 74, 10, 60, 47, 51, 85, 43, 27, 11, 40, 33, 83, 36, 69, 78, 53, 53, 77, 98, 43, 60, 82, 31, 87, 72, 12, 36, 38, 76, 91, 15, 35, 71, 94, 55, 25, 27, 17, 43, 34, 20, 30, 9, 87, 24, 19, 86, 73, 72, 99, 36, 2, 17, 67, 9, 36, 1, 67, 2, 38, 80, 68, 70, 96, 45, 36, 19, 27, 51, 86, 74, 65, 49, 96, 88, 84, 58, 24, 14, 12, 54, 61, 25, 73, 15, 62, 94, 87, 35, 52, 62, 51, 97, 64, 69, 15, 75, 17, 41, 92, 72, 87, 74, 74, 14, 52, 46, 83, 43, 47, 70, 66, 82, 78, 64, 95, 29, 52, 30, 73, 4, 84, 8, 69, 23, 52, 2, 54, 85, 37, 70, 13, 7, 59, 46, 68, 2, 11, 35, 25, 5, 50, 36, 80, 48, 27, 48, 22, 95, 88, 33, 33, 16, 11, 9, 21, 83, 9, 85, 58, 2, 11, 2, 59, 54, 96, 14, 51, 25, 64, 18, 7, 22, 76, 46, 77, 72, 89, 33, 59, 14, 70, 31, 15, 9, 63, 0, 82, 91, 54, 94, 96, 43, 50, 91, 89, 6, 3, 98, 15, 8, 55, 35, 59, 1, 30, 72, 35, 4, 8, 49, 21, 88, 5, 86, 78, 28, 33, 44, 82, 28, 29, 15, 90, 54, 24, 28, 7, 85, 55, 64, 26, 47, 17, 81, 28, 6, 26, 59, 29, 56, 21, 23, 99, 45, 18, 58, 9, 25, 47, 40, 67, 27, 52, 76, 58, 9, 52, 32, 52, 42, 36, 56, 98, 42, 6, 76, 3, 97, 35, 2, 43, 22, 85, 37, 92, 87, 40, 75, 38, 54, 31, 14, 1, 57, 81, 83, 4, 91, 30, 74, 87, 81, 28, 77, 92, 73, 54, 40, 68, 61, 1, 90, 86, 81, 4, 73, 62, 63, 50, 25, 26, 55, 36, 26, 38, 52, 78, 21, 62, 19, 82, 95, 70, 77, 6, 94, 45, 67, 41, 85, 29, 65, 3, 42, 13, 30, 39, 68, 19, 67, 98, 25, 28, 26, 32, 87, 94, 34, 88, 68, 98, 94, 47, 24, 28, 19, 40, 36, 65, 51, 5, 42, 75, 69, 80, 61, 19, 87, 80, 9, 25, 0, 35, 93, 79, 96, 29, 95, 8, 27, 69, 16, 22, 68, 81, 63, 1, 59, 70, 61, 77, 92, 29, 7, 97, 81, 88, 0, 6, 26, 17, 59, 88, 76, 75, 35, 23, 96, 4, 10, 7, 29, 79, 13, 21, 35, 9, 28, 84, 53, 96, 69, 81, 84, 60, 0, 0, 48, 88, 54, 21, 55, 83, 79, 72, 77, 97, 38, 51, 68, 64, 48, 16, 1, 34, 85, 13, 47, 82, 18, 8, 55, 42, 97, 76, 52, 16, 87, 43, 31, 96, 10, 11, 61, 54, 14, 46, 50, 41, 90, 56, 16, 56, 49, 38, 25, 66, 70, 65, 68, 10, 83, 59, 38, 70, 22, 31, 36, 42, 50, 14, 84, 46, 0, 69, 76, 82, 21, 6, 91, 43, 82, 9, 33, 87, 35, 89, 91, 38, 86, 7, 46, 39, 1, 94, 55, 31, 25, 74, 1, 57, 29, 34, 29, 77, 14, 77, 80, 84, 95, 5, 47, 50, 67, 32, 78, 57, 5, 63, 9, 81, 94, 14, 86, 29, 58, 94, 52, 9, 60, 86, 98, 14, 27, 11, 14, 35, 53, 53, 5, 80, 38, 68, 21, 46, 88, 30, 51, 97, 53, 3, 70, 37, 35, 72, 76, 63, 80, 63, 51, 64, 45, 95, 67, 91, 95, 10, 96, 38, 43, 63, 10, 27, 87, 73, 57, 39, 64, 52, 77, 8, 57, 92, 94, 50, 38, 78, 54, 46, 29, 59, 39, 75, 95, 48, 33, 74, 34, 18, 73, 24, 9, 67, 25, 13, 69, 76, 24, 95, 91, 4, 8, 16, 40, 56, 9, 96, 59, 81, 77, 42, 29, 1, 67, 65, 0, 20, 18, 85, 81, 9, 47, 47, 87, 55, 90, 66, 83, 9, 95, 63, 41, 36, 67, 37, 54, 14, 80, 41, 64, 84, 79, 81, 38, 47, 54, 89, 22, 3, 26, 23, 84, 86, 80, 38, 83, 68, 64, 70, 2, 16, 2, 84, 87, 52, 83, 93, 89, 83, 31, 57, 35, 50, 11, 10, 87, 2, 17, 8, 70, 9, 53, 75, 54, 12, 7, 39, 60, 0, 29, 3, 13, 83, 60, 14, 12, 89, 22, 99, 94, 99, 92, 90, 35, 77, 59, 73, 88, 85, 72, 75, 38, 39, 19, 63, 72, 87, 76, 53, 31, 38, 6, 95, 1, 7, 64, 55, 5, 2, 40, 4, 24, 91, 25, 56, 4, 24, 57, 69, 25, 44, 9, 34, 43, 97, 81, 82, 0, 38, 63, 6, 0, 1, 73, 7, 17, 1, 12, 18, 97, 49, 22, 33, 82, 20, 10, 96, 10, 51, 70, 39, 2, 45, 28, 20, 41, 97, 39, 77, 0, 62, 77, 49, 49, 53, 9, 54, 22, 96, 61, 21, 47, 45, 2, 5, 37, 25, 88, 15, 53, 87, 52, 65, 74, 6, 16, 64, 12, 1, 72, 98, 48, 28, 10, 15, 89, 87, 8, 59, 37, 21, 64, 90, 83, 17, 28, 68, 56, 64, 60, 24, 63, 47, 45, 20, 85, 8, 81, 58, 69, 4, 82, 25, 61, 69, 9, 4, 54, 67, 34, 47, 80, 90, 35, 40, 87, 3, 63, 88, 37, 78, 92, 23, 86, 59, 28, 83, 14, 43, 34, 76, 82, 16, 68, 16, 46, 71, 5, 3, 42, 30, 81, 5, 58, 53, 39, 42, 71, 13, 10, 44, 7, 62, 32, 97, 22, 44, 27, 1, 89, 2, 76, 92, 94, 27, 36, 53, 61, 49, 87, 50, 16, 36, 48, 47, 56, 71, 9, 56, 46, 78, 36, 8, 63, 91, 23, 63, 14, 74, 30, 60, 53, 46, 67, 33, 86, 7, 42, 60, 53, 96, 7, 56, 60, 36, 39, 18, 50, 3, 37, 91, 18, 84, 71, 83, 16, 67, 68, 81, 52, 24, 20, 71, 4, 76, 77, 45, 18, 7, 25, 56, 57, 46, 9, 24, 37, 60, 85, 11, 99, 34, 9, 87, 23, 53, 61, 89, 41, 23, 67, 11, 67, 61, 25, 57, 73, 45, 6, 55, 74, 94, 56, 78, 58, 4, 9, 44, 57, 62, 84, 21, 21, 81, 8, 28, 83, 23, 20, 20, 63, 79, 48, 78, 19, 75, 2, 52, 76, 57, 19, 5, 7, 70, 59, 20, 17, 39, 29, 24, 20, 55, 38, 26, 78, 76, 38, 12, 78, 10, 65, 33, 74, 78, 39, 0, 9, 68, 69, 80, 9, 52, 51, 19, 30, 25, 37, 63, 36, 75, 75, 97, 62, 51, 55, 18, 43, 20, 13, 45, 55, 44, 18, 32, 92, 7, 25, 32, 87, 50, 90, 27, 16, 66, 64, 62, 86, 65, 88, 8, 94, 46, 6, 61, 92, 44, 19, 91, 45, 31, 60, 78, 11, 1, 50, 60, 77, 64, 68, 28, 59, 68, 74, 0, 21, 81, 43, 16, 76, 93, 40, 51, 57, 92, 18, 71, 20, 37, 68, 90, 8, 78, 36, 26, 14, 94, 97, 58, 69, 54, 11, 37, 56, 10, 89, 93, 75, 88, 55, 70, 3, 48, 27, 79, 90, 56, 95, 1, 15, 63, 3, 5, 35, 93, 0, 54, 31, 14, 90, 48, 12, 87, 51, 71, 28, 22, 26, 5, 83, 75, 61, 71, 9, 46, 19, 49, 21, 52, 28, 97, 76, 10, 71, 25, 89, 23, 49, 11, 12, 89, 6, 34, 75, 87, 41, 92, 33, 50, 82, 73, 28, 56, 85, 45, 90, 94, 67, 35, 22, 47, 59, 56, 59, 65, 15, 84, 76, 36, 97, 24, 26, 85, 32, 81, 69, 50, 69, 9, 20, 65, 61, 50, 54, 98, 97, 7, 79, 57, 74, 22, 23, 90, 90, 72, 60, 12, 73, 21, 73, 48, 14, 32, 63, 64, 81, 7, 83, 78, 58, 93, 51, 77, 10, 36, 27, 77, 63, 16, 78, 69, 90, 60, 37, 27, 44, 14, 59, 30, 75, 76, 30, 22, 78, 86, 65, 71, 52, 12, 96, 64, 21, 56, 0, 23, 5, 89, 50, 69, 80, 80, 8, 34, 90, 33, 32, 63, 3, 58, 87, 16, 7, 17, 2, 15, 26, 18, 68, 66, 81, 91, 34, 61, 55, 40, 0, 80, 10, 71, 54, 15, 38, 59, 73, 26, 19, 30, 12, 5, 80, 66, 3, 18, 7, 91, 40, 23, 76, 68, 8, 34, 30, 0, 47, 23, 29, 22, 54, 3, 97, 65, 16, 19, 35, 58, 23, 69, 77, 95, 69, 83, 81, 25, 31, 90, 58, 48, 87, 23, 6, 62, 9, 89, 81, 1, 82, 25, 92, 68, 34, 73, 71, 12, 77, 62, 85, 96, 26, 50, 38, 53, 8, 97, 64, 72, 66, 84, 28, 17, 78, 51, 63, 54, 99, 65, 52, 82, 32, 23, 86, 72, 2, 64, 11, 25, 94, 69, 58, 75, 25, 94, 58, 42, 42, 84, 70, 41, 86, 79, 16, 56, 18, 25, 8, 58, 18, 96, 15, 27, 11, 54, 81, 30, 92, 12, 3, 34, 74, 44, 15, 40, 51, 16, 84, 86, 78, 28, 6, 93, 13, 62, 51, 22, 57, 69, 37, 60, 83, 50, 73, 4, 18, 87, 87, 15, 65, 83, 27, 62, 50, 69, 18, 28, 79, 58, 81, 49, 27, 99, 12, 52, 3, 35, 42, 2, 84, 81, 12, 2, 78, 36, 52, 82, 0, 69, 72, 60, 59, 90, 26, 49, 85, 5, 6, 54, 9, 94, 28, 76, 14, 98, 38, 28, 72, 11, 44, 37, 39, 78, 9, 10, 14, 88, 85, 95, 23, 88, 54, 84, 59, 80, 3, 49, 64, 93, 34, 80, 72, 86, 57, 28, 14, 9, 94, 65, 69, 48, 1, 65, 52, 75, 73, 22, 44, 6, 71, 74, 50, 47, 68, 49, 1, 21, 17, 50, 42, 65, 51, 98, 65, 59, 7, 29, 3, 47, 37, 29, 34, 90, 81, 70, 6, 28, 84, 48, 48, 8, 7, 5, 45, 4, 78, 28, 81, 51, 37, 58, 51, 36, 68, 82, 77, 89, 90, 54, 65, 47, 82, 2, 65, 82, 43, 2, 36, 54, 40, 62, 53, 96, 61, 5, 56, 27, 3, 69, 75, 14, 73, 89, 98, 35, 71, 24, 14, 72, 40, 42, 19, 40, 44, 61, 37, 72, 25, 2, 2, 8, 49, 51, 10, 72, 94, 96, 61, 4, 32, 60, 87, 50, 30, 34, 91, 46, 91, 31, 18, 55, 92, 77, 27, 66, 0, 46, 13, 55, 47, 38, 75, 57, 23, 32, 82, 88, 99, 98, 67, 43, 31, 54, 36, 85, 50, 25, 71, 9, 16, 30, 30, 82, 31, 60, 7, 79, 3, 28, 93, 16, 91, 61, 6, 54, 22, 7, 57, 66, 27, 73, 14, 90, 51, 92, 57, 9, 80, 96, 93, 74, 0, 98, 62, 67, 25, 10, 58, 85, 18, 66, 93, 30, 70, 74, 16, 83, 13, 60, 50, 30, 11, 19, 65, 36, 26, 75, 4, 80, 82, 62, 71, 2, 60, 63, 60, 76, 81, 10, 63, 37, 11, 50, 57, 6, 6, 37, 3, 26, 44, 51, 31, 2, 83, 56, 59, 91, 21, 4, 38, 25, 43, 68, 44, 25, 93, 47, 1, 52, 5, 43, 25, 55, 58, 13, 48, 11, 27, 25, 7, 55, 47, 79, 40, 87, 54, 98, 12, 67, 83, 41, 29, 54, 60, 61, 74, 35, 93, 41, 88, 32, 58, 3, 62, 13, 69, 75, 71, 84, 29, 80, 42, 74, 43, 22, 39, 50, 20, 91, 55, 67, 54, 85, 96, 80, 21, 70, 83, 64, 55, 61, 67, 71, 29, 16, 10, 44, 30, 16, 34, 3, 65, 9, 70, 76, 82, 7, 39, 35, 5, 10, 7, 89, 20, 39, 52, 78, 91, 37, 13, 52, 93, 87, 56, 97, 85, 66, 87, 93, 34, 23, 84, 32, 6, 83, 9, 72, 31, 83, 22, 80, 29, 72, 73, 23, 78, 33, 8, 90, 75, 11, 71, 39, 98, 53, 24, 3, 45, 76, 31, 45, 22, 19, 0, 98, 7, 44, 42, 42, 15, 43, 15, 70, 1, 94, 75, 46, 5, 71, 4, 53, 90, 59, 20, 52, 88, 21, 39, 40, 19, 37, 75, 80, 28, 84, 74, 30, 4, 91, 96, 94, 34, 31, 81, 7, 72, 43, 52, 34, 18, 13, 76, 17, 9, 98, 17, 37, 83, 61, 99, 55, 62, 99, 89, 95, 24, 14, 86, 59, 36, 38, 46, 38, 13, 43, 16, 37, 27, 33, 77, 29, 31, 8, 74, 9, 6, 51, 81, 46, 0, 31, 94, 52, 79, 80, 84, 14, 51, 11, 15, 69, 45, 7, 38, 21, 87, 48, 3, 75, 99, 37, 6, 9, 46, 21, 0, 80, 34, 79, 29, 95, 3, 98, 76, 28, 73, 87, 57, 43, 61, 79, 2, 2, 83, 33, 74, 75, 69, 48, 19, 78, 39, 0, 32, 2, 52, 85, 47, 4]\n"
          ]
        }
      ]
    },
    {
      "cell_type": "markdown",
      "source": [
        "Generate .csv file "
      ],
      "metadata": {
        "id": "lnhGlP0BOQrV"
      }
    },
    {
      "cell_type": "code",
      "source": [
        "import pandas as pd\n",
        "  \n",
        "# reading the csv file\n",
        "df = pd.read_csv(\"tiny-imagenet-100/submission_sample.csv\")\n",
        "\n",
        "for i in range(5000):\n",
        "    df.loc[i, 'label'] = final_predictions[i]\n",
        "    # writing into the file\n",
        "    df.to_csv(\"submission_sample.csv\", index=False)"
      ],
      "metadata": {
        "id": "qJ4nBmtr_C-v"
      },
      "execution_count": 18,
      "outputs": []
    },
    {
      "cell_type": "markdown",
      "source": [
        "Export the trained model"
      ],
      "metadata": {
        "id": "-9BAH-N7Nkqp"
      }
    },
    {
      "cell_type": "code",
      "source": [
        "t = time.time()\n",
        "\n",
        "export_path = \"/content/saved_models/{}\".format(int(t))\n",
        "model.save(export_path)\n",
        "\n",
        "export_path"
      ],
      "metadata": {
        "colab": {
          "base_uri": "https://localhost:8080/",
          "height": 53
        },
        "id": "Cuk8e6KbIoJ9",
        "outputId": "07354ad1-a98d-4c77-90f4-02b1865b747c"
      },
      "execution_count": 19,
      "outputs": [
        {
          "output_type": "stream",
          "name": "stdout",
          "text": [
            "INFO:tensorflow:Assets written to: /content/saved_models/1647408896/assets\n"
          ]
        },
        {
          "output_type": "execute_result",
          "data": {
            "text/plain": [
              "'/content/saved_models/1647408896'"
            ],
            "application/vnd.google.colaboratory.intrinsic+json": {
              "type": "string"
            }
          },
          "metadata": {},
          "execution_count": 19
        }
      ]
    },
    {
      "cell_type": "code",
      "source": [
        "reloaded = tf.keras.models.load_model(export_path)"
      ],
      "metadata": {
        "id": "MFst-0LiJFIt"
      },
      "execution_count": 20,
      "outputs": []
    },
    {
      "cell_type": "markdown",
      "source": [
        "zip the saved model file and save it into google drive"
      ],
      "metadata": {
        "id": "MTIFQFPMNcg-"
      }
    },
    {
      "cell_type": "code",
      "source": [
        "!zip -r /content/saved_models.zip /content/saved_models"
      ],
      "metadata": {
        "colab": {
          "base_uri": "https://localhost:8080/"
        },
        "id": "5BiqqT6bdEwJ",
        "outputId": "74b3b5bc-091e-424c-b195-d96c2c4c75b7"
      },
      "execution_count": 21,
      "outputs": [
        {
          "output_type": "stream",
          "name": "stdout",
          "text": [
            "  adding: content/saved_models/ (stored 0%)\n",
            "  adding: content/saved_models/1647408896/ (stored 0%)\n",
            "  adding: content/saved_models/1647408896/assets/ (stored 0%)\n",
            "  adding: content/saved_models/1647408896/saved_model.pb (deflated 92%)\n",
            "  adding: content/saved_models/1647408896/keras_metadata.pb (deflated 95%)\n",
            "  adding: content/saved_models/1647408896/variables/ (stored 0%)\n",
            "  adding: content/saved_models/1647408896/variables/variables.index (deflated 82%)\n",
            "  adding: content/saved_models/1647408896/variables/variables.data-00000-of-00001 (deflated 7%)\n"
          ]
        }
      ]
    },
    {
      "cell_type": "code",
      "source": [
        "from google.colab import drive\n",
        "drive.mount('/content/drive')\n",
        "import shutil\n",
        "shutil.copy(\"/content/saved_models.zip\",\"/content/drive/MyDrive\")"
      ],
      "metadata": {
        "colab": {
          "base_uri": "https://localhost:8080/",
          "height": 53
        },
        "id": "2lBRVSbWeCLh",
        "outputId": "140f1669-4bc1-4fd9-fd41-c0795461771d"
      },
      "execution_count": 22,
      "outputs": [
        {
          "output_type": "stream",
          "name": "stdout",
          "text": [
            "Mounted at /content/drive\n"
          ]
        },
        {
          "output_type": "execute_result",
          "data": {
            "text/plain": [
              "'/content/drive/MyDrive/saved_models.zip'"
            ],
            "application/vnd.google.colaboratory.intrinsic+json": {
              "type": "string"
            }
          },
          "metadata": {},
          "execution_count": 22
        }
      ]
    }
  ]
}